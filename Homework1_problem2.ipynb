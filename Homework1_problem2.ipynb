{
 "cells": [
  {
   "cell_type": "markdown",
   "id": "3b046ac9-3b54-43ed-9ba6-1b9197069f27",
   "metadata": {},
   "source": [
    "Problem 2  (50 points)\r\n",
    "\r\n",
    "Please implement the following steps for the housing dataset we overviewed during the lectures.\r\n",
    "\r\n",
    "2.a. Build a multi-perceptron network that regresses the housing price (based on 20%, 80% split). Use the same number of features we did in the lecture without on-hot encoding. Please plot the training and validation results and report final accuracy and model complexity(20pt)"
   ]
  },
  {
   "cell_type": "code",
   "execution_count": 335,
   "id": "5b092e7f-d7de-4b5f-8c3f-b6248049e1b4",
   "metadata": {},
   "outputs": [],
   "source": [
    "import torch\n",
    "import torch.nn as nn\n",
    "import torch.optim as optim\n",
    "from torchvision import datasets, transforms\n",
    "from torch.utils.data import DataLoader,TensorDataset\n",
    "from sklearn.metrics import precision_score, recall_score, f1_score\n",
    "import matplotlib.pyplot as plt\n",
    "import random\n",
    "import numpy as np\n",
    "import pandas as pd\n",
    "from sklearn.preprocessing import StandardScaler"
   ]
  },
  {
   "cell_type": "code",
   "execution_count": 372,
   "id": "96b8f2b2-9738-466e-9026-affb539d5812",
   "metadata": {},
   "outputs": [],
   "source": [
    "train_dataset = pd.read_csv(\"house-train.csv\")"
   ]
  },
  {
   "cell_type": "code",
   "execution_count": 403,
   "id": "55cb42e5-4151-4ff7-b19e-450ad0301ec2",
   "metadata": {},
   "outputs": [],
   "source": [
    "usefull_cols = ['OverallQual', 'GrLivArea', 'GarageArea', 'TotalBsmtSF'\n",
    "                , 'FullBath', 'YearBuilt', 'YearRemodAdd', 'Fireplaces'\n",
    "                ,'LotFrontage','WoodDeckSF','OpenPorchSF'\n",
    "                ,'ExterQual','Neighborhood','MSZoning'\n",
    "                ,'LotShape','LandContour','Condition1','HouseStyle','SaleCondition',]\n",
    "df_prepro = train_dataset[usefull_cols].copy()\n",
    "df_prepro['GarageArea'] = df_prepro['GarageArea'].fillna(df_prepro['GarageArea'].mean())\n",
    "df_prepro['TotalBsmtSF'] = df_prepro['TotalBsmtSF'].fillna(df_prepro['TotalBsmtSF'].mean())\n",
    "df_prepro['LotFrontage'] = df_prepro['LotFrontage'].fillna(df_prepro['LotFrontage'].mean())\n",
    "df_y = train_dataset['SalePrice'].copy()"
   ]
  },
  {
   "cell_type": "code",
   "execution_count": 404,
   "id": "acab48c1-95d9-409e-88c3-1d3110a25891",
   "metadata": {},
   "outputs": [
    {
     "data": {
      "text/plain": [
       "OverallQual      0\n",
       "GrLivArea        0\n",
       "GarageArea       0\n",
       "TotalBsmtSF      0\n",
       "FullBath         0\n",
       "YearBuilt        0\n",
       "YearRemodAdd     0\n",
       "Fireplaces       0\n",
       "LotFrontage      0\n",
       "WoodDeckSF       0\n",
       "OpenPorchSF      0\n",
       "ExterQual        0\n",
       "Neighborhood     0\n",
       "MSZoning         0\n",
       "LotShape         0\n",
       "LandContour      0\n",
       "Condition1       0\n",
       "HouseStyle       0\n",
       "SaleCondition    0\n",
       "dtype: int64"
      ]
     },
     "execution_count": 404,
     "metadata": {},
     "output_type": "execute_result"
    }
   ],
   "source": [
    "df_prepro.isnull().sum()"
   ]
  },
  {
   "cell_type": "code",
   "execution_count": 405,
   "id": "0dfc1464-b0ac-4bde-b9b4-4d16167c99c5",
   "metadata": {},
   "outputs": [
    {
     "data": {
      "text/plain": [
       "0    208500\n",
       "1    181500\n",
       "2    223500\n",
       "3    140000\n",
       "4    250000\n",
       "Name: SalePrice, dtype: int64"
      ]
     },
     "execution_count": 405,
     "metadata": {},
     "output_type": "execute_result"
    }
   ],
   "source": [
    "df_y.head()"
   ]
  },
  {
   "cell_type": "code",
   "execution_count": 406,
   "id": "a3029bc1-336b-43a4-8b82-8e0a1bd5003d",
   "metadata": {},
   "outputs": [],
   "source": [
    "categorical_cols = df_prepro.select_dtypes(exclude=[np.number]).columns.tolist()\n",
    "def encode_categorical_columns(df, categorical_columns):\n",
    "    encoded_df = df.copy()\n",
    "    encoding_mapping = {}\n",
    "\n",
    "    for column in categorical_columns:\n",
    "        unique_values = df[column].unique()\n",
    "        encoding_mapping[column] = {value: i for i, value in enumerate(unique_values)}\n",
    "        encoded_df[column] = df[column].map(encoding_mapping[column])\n",
    "\n",
    "    return encoded_df, encoding_mapping\n",
    "df_train, encoding_mapping_train = encode_categorical_columns(df_prepro, categorical_cols)"
   ]
  },
  {
   "cell_type": "code",
   "execution_count": 407,
   "id": "82524cc9-5f5a-4b5c-8a93-d31807a6db9d",
   "metadata": {},
   "outputs": [],
   "source": [
    "from sklearn.model_selection import train_test_split\n",
    "x_train, x_val, y_train, y_val = train_test_split(df_train, df_y, test_size=0.2, random_state=42)"
   ]
  },
  {
   "cell_type": "code",
   "execution_count": 408,
   "id": "69ef0a41-fa4f-4908-bc1a-e7a5a15fdaa7",
   "metadata": {},
   "outputs": [],
   "source": [
    "scaler = StandardScaler()\n",
    "X_train_scaled = scaler.fit_transform(x_train)\n",
    "X_val_scaled = scaler.transform(x_val)"
   ]
  },
  {
   "cell_type": "code",
   "execution_count": 409,
   "id": "6ad71dee-5990-4a87-aecb-3283aff7fe30",
   "metadata": {},
   "outputs": [],
   "source": [
    "x_train_tensor = torch.tensor(X_train_scaled, dtype=torch.float32).to(device)\n",
    "y_train_tensor = torch.tensor(y_train.values, dtype=torch.float32).to(device)\n",
    "x_val_tensor = torch.tensor(X_val_scaled, dtype=torch.float32).to(device)\n",
    "y_val_tensor = torch.tensor(y_val.values, dtype=torch.float32).to(device)\n",
    "\n",
    "train_data = TensorDataset(x_train_tensor, y_train_tensor.view(-1, 1))\n",
    "val_data = TensorDataset(x_val_tensor, y_val_tensor.view(-1, 1))\n",
    "\n",
    "train_loader = DataLoader(train_data, batch_size=32, shuffle=True)\n",
    "val_loader = DataLoader(val_data, batch_size=32, shuffle=False)"
   ]
  },
  {
   "cell_type": "code",
   "execution_count": 410,
   "id": "0a364d73-6b8b-459d-9d82-f7bb30f4f03e",
   "metadata": {},
   "outputs": [],
   "source": [
    "class Housing(nn.Module):\n",
    "    def __init__(self, input_size):\n",
    "        super(Housing, self).__init__()\n",
    "        self.fc1 = nn.Linear(input_size, 128)\n",
    "        self.relu = nn.ReLU()\n",
    "        self.fc2 = nn.Linear(128,64)\n",
    "        self.fc3 = nn.Linear(64, 32)\n",
    "        self.fc4 = nn.Linear(32,1)\n",
    "    def forward(self, x):\n",
    "        x = self.fc1(x)\n",
    "        x = self.relu(x)\n",
    "        x = self.fc2(x)\n",
    "        x = self.relu(x)\n",
    "        x = self.fc3(x)\n",
    "        x = self.relu(x)\n",
    "        return self.fc4(x)"
   ]
  },
  {
   "cell_type": "code",
   "execution_count": 411,
   "id": "f7800a10-52aa-49a0-802a-e3fe7909ae45",
   "metadata": {},
   "outputs": [
    {
     "name": "stdout",
     "output_type": "stream",
     "text": [
      "Using device: cuda\n"
     ]
    }
   ],
   "source": [
    "device = torch.device('cuda' if torch.cuda.is_available() else 'cpu')\n",
    "print(f'Using device: {device}')"
   ]
  },
  {
   "cell_type": "code",
   "execution_count": 412,
   "id": "19afbc40-6b61-4ee6-8f3e-553b3ec0adc6",
   "metadata": {},
   "outputs": [],
   "source": [
    "input_size = len(usefull_cols)\n",
    "model = Housing(input_size).to(device)\n",
    "criterion = nn.MSELoss()\n",
    "optimizer = optim.Adam(model.parameters(), lr=0.01)"
   ]
  },
  {
   "cell_type": "code",
   "execution_count": 413,
   "id": "c0997b8f-58c0-40fc-a0a0-888a3c2b921c",
   "metadata": {},
   "outputs": [
    {
     "name": "stdout",
     "output_type": "stream",
     "text": [
      "Epoch 1/500, Train Loss: 195020.4324, Val Loss: 188537.6437\n",
      "Epoch 51/500, Train Loss: 27578.1597, Val Loss: 30654.8855\n",
      "Epoch 101/500, Train Loss: 25665.4571, Val Loss: 31515.6158\n",
      "Epoch 151/500, Train Loss: 24530.8959, Val Loss: 32568.0799\n",
      "Epoch 201/500, Train Loss: 22766.1534, Val Loss: 32148.9873\n",
      "Epoch 251/500, Train Loss: 19883.8391, Val Loss: 32125.8363\n",
      "Epoch 301/500, Train Loss: 16605.7823, Val Loss: 31011.2504\n",
      "Epoch 351/500, Train Loss: 14124.4567, Val Loss: 29203.2843\n",
      "Epoch 401/500, Train Loss: 11415.8962, Val Loss: 28547.9536\n",
      "Epoch 451/500, Train Loss: 10026.9523, Val Loss: 29461.4367\n"
     ]
    }
   ],
   "source": [
    "num_epochs = 500\n",
    "train_losses = []\n",
    "val_losses = []\n",
    "for epoch in range(num_epochs):\n",
    "    model.train()\n",
    "    total_loss = 0\n",
    "    for inputs, labels in train_loader:\n",
    "        optimizer.zero_grad()\n",
    "        output = model(inputs)\n",
    "        loss = criterion(output, labels)\n",
    "        rmse_loss = torch.sqrt(loss)  \n",
    "        rmse_loss.backward()\n",
    "        optimizer.step()\n",
    "        total_loss += rmse_loss.item()\n",
    "    avg_train_loss = total_loss / len(train_loader)\n",
    "    train_losses.append(avg_train_loss)\n",
    "\n",
    "    # Validation\n",
    "    model.eval()\n",
    "    total_val_loss = 0\n",
    "    with torch.no_grad():\n",
    "        for X_batch, y_batch in val_loader:\n",
    "            output = model(X_batch)\n",
    "            y_pred.extend(output.view(-1).tolist())\n",
    "            y_true.extend(y_batch.view(-1).tolist())\n",
    "            loss = criterion(output, y_batch)\n",
    "            rmse_loss = torch.sqrt(loss)  # Calculate RMS\n",
    "            total_val_loss += rmse_loss.item()\n",
    "    avg_val_loss = total_val_loss / len(val_loader)\n",
    "    val_losses.append(avg_val_loss)\n",
    "    if epoch % 50 == 0:\n",
    "        print(f'Epoch {epoch + 1}/{num_epochs}, Train Loss: {avg_train_loss:.4f}, Val Loss: {avg_val_loss:.4f}')\n"
   ]
  },
  {
   "cell_type": "code",
   "execution_count": 414,
   "id": "c8e6bc2f-5f87-4cbc-9876-17bab6c91b19",
   "metadata": {},
   "outputs": [
    {
     "data": {
      "image/png": "[encoded data removed]",
      "text/plain": [
       "<Figure size 640x480 with 1 Axes>"
      ]
     },
     "metadata": {},
     "output_type": "display_data"
    }
   ],
   "source": [
    "plt.plot(train_losses, label='Train Loss')\n",
    "plt.plot(val_losses, label='Validation Loss')\n",
    "plt.xlabel('Epochs')\n",
    "plt.ylabel('Loss')\n",
    "plt.legend()\n",
    "plt.show()\n",
    "torch.save(model, 'model_Housing_1.pth')"
   ]
  },
  {
   "cell_type": "code",
   "execution_count": 415,
   "id": "de01f1b6-f27d-446c-853c-7c11b89e80e2",
   "metadata": {},
   "outputs": [
    {
     "name": "stdout",
     "output_type": "stream",
     "text": [
      "Final Validation loss : 28684.143994140624\n",
      "Total number of parameters in the model: 12929\n"
     ]
    }
   ],
   "source": [
    "# Report final accuracy\n",
    "model.eval()\n",
    "total_val_loss = 0\n",
    "with torch.no_grad():\n",
    "        for X_batch, y_batch in val_loader:\n",
    "            output = model(X_batch)\n",
    "            y_pred.extend(output.view(-1).tolist())\n",
    "            y_true.extend(y_batch.view(-1).tolist())\n",
    "            loss = criterion(output, y_batch)\n",
    "            rmse_loss = torch.sqrt(loss)  # Calculate RMS\n",
    "            total_val_loss += rmse_loss.item()\n",
    "        avg_val_loss = total_val_loss / len(val_loader)\n",
    "print(\"Final Validation loss :\", avg_val_loss)\n",
    "total_parameters = sum(p.numel() for p in model.parameters())\n",
    "print(f'Total number of parameters in the model: {total_parameters}')"
   ]
  },
  {
   "cell_type": "markdown",
   "id": "0a271d26-7994-4099-b5a5-ebb6518916f9",
   "metadata": {},
   "source": [
    "2.b. Build a multi-perceptron network that regresses the housing price (based on 20%, 80% split). Use the same number of features we did in the lecture, but this time also add on-hot encoding. Please plot the training and validation results and report the final accuracy and model complexity. Do you see the meaningful changes against 2.b. (20pt)"
   ]
  },
  {
   "cell_type": "code",
   "execution_count": 416,
   "id": "3502e9fe-b294-4617-8ac3-e47f17155984",
   "metadata": {},
   "outputs": [],
   "source": [
    "usefull_cols = ['OverallQual', 'GrLivArea', 'GarageArea', 'TotalBsmtSF'\n",
    "                , 'FullBath', 'YearBuilt', 'YearRemodAdd', 'Fireplaces'\n",
    "                ,'LotFrontage','WoodDeckSF','OpenPorchSF'\n",
    "                ,'ExterQual','Neighborhood','MSZoning'\n",
    "                ,'LotShape','LandContour','Condition1','HouseStyle','SaleCondition',]\n",
    "df_train_prepro = train_dataset[usefull_cols].copy()\n",
    "\n",
    "df_train_prepro['GarageArea'] = df_train_prepro['GarageArea'].fillna(df_train_prepro['GarageArea'].mean())\n",
    "df_train_prepro['TotalBsmtSF'] = df_train_prepro['TotalBsmtSF'].fillna(df_train_prepro['TotalBsmtSF'].mean())\n",
    "\n",
    "df_train_prepro = pd.get_dummies(df_train_prepro,columns=['Neighborhood','MSZoning','LotShape','LandContour','Condition1','HouseStyle','SaleCondition'])\n",
    "\n",
    "df_train_prepro = df_train_prepro.replace({True: 1, False: 0})\n",
    "\n",
    "\n",
    "\n",
    "df_train_prepro = df_train_prepro.apply(pd.to_numeric, errors='coerce').fillna(0)\n"
   ]
  },
  {
   "cell_type": "code",
   "execution_count": 417,
   "id": "1f657188-fb82-4133-a3b4-5ebe29ddc253",
   "metadata": {},
   "outputs": [],
   "source": [
    "df_y = train_dataset['SalePrice'].copy()"
   ]
  },
  {
   "cell_type": "code",
   "execution_count": 418,
   "id": "e806d693-bfd4-4913-92b0-a96424f42ba0",
   "metadata": {},
   "outputs": [],
   "source": [
    "X_train, X_val, y_train, y_val = train_test_split(df_train_prepro, df_y, test_size=0.2, random_state=42)"
   ]
  },
  {
   "cell_type": "code",
   "execution_count": 419,
   "id": "a8c33c88-015a-4b87-9938-b127472b0fdd",
   "metadata": {},
   "outputs": [],
   "source": [
    "scaler = StandardScaler()\n",
    "X_train_scaled = scaler.fit_transform(X_train)\n",
    "X_val_scaled = scaler.transform(X_val)\n",
    "\n",
    "x_train_tensor = torch.tensor(X_train_scaled, dtype=torch.float32).to(device)\n",
    "y_train_tensor = torch.tensor(y_train.values, dtype=torch.float32).to(device)\n",
    "x_val_tensor = torch.tensor(X_val_scaled, dtype=torch.float32).to(device)\n",
    "y_val_tensor = torch.tensor(y_val.values, dtype=torch.float32).to(device)\n",
    "\n",
    "train_data = TensorDataset(x_train_tensor, y_train_tensor.view(-1, 1))\n",
    "val_data = TensorDataset(x_val_tensor, y_val_tensor.view(-1, 1))\n",
    "\n",
    "train_loader = DataLoader(train_data, batch_size=32, shuffle=True)\n",
    "val_loader = DataLoader(val_data, batch_size=32, shuffle=False)"
   ]
  },
  {
   "cell_type": "code",
   "execution_count": 420,
   "id": "97ff18e0-0dd0-4c9a-b60e-68186346a43a",
   "metadata": {},
   "outputs": [],
   "source": [
    "input_size = len(X_val_scaled[0])\n",
    "model = Housing(input_size).to(device)\n",
    "criterion = nn.MSELoss()\n",
    "optimizer = optim.Adam(model.parameters(), lr=0.0001)"
   ]
  },
  {
   "cell_type": "code",
   "execution_count": 421,
   "id": "b3a22d3a-3903-41c2-9693-c6ee08d558c0",
   "metadata": {},
   "outputs": [
    {
     "name": "stdout",
     "output_type": "stream",
     "text": [
      "Epoch 1/500, Train Loss: 196783.8285472973, Val Loss: 196714.2765625\n",
      "Epoch 11/500, Train Loss: 195912.56672297296, Val Loss: 196675.3171875\n",
      "Epoch 21/500, Train Loss: 196086.05447635136, Val Loss: 196110.003125\n",
      "Epoch 31/500, Train Loss: 193426.0920608108, Val Loss: 193719.903125\n",
      "Epoch 41/500, Train Loss: 187663.078125, Val Loss: 187879.8765625\n",
      "Epoch 51/500, Train Loss: 177604.27576013515, Val Loss: 177032.471875\n",
      "Epoch 61/500, Train Loss: 161880.00464527027, Val Loss: 160352.9625\n",
      "Epoch 71/500, Train Loss: 140130.8524070946, Val Loss: 138455.71171875\n",
      "Epoch 81/500, Train Loss: 117387.2734375, Val Loss: 115402.72890625\n",
      "Epoch 91/500, Train Loss: 100991.11655405405, Val Loss: 98612.821875\n",
      "Epoch 101/500, Train Loss: 92252.32474662163, Val Loss: 90320.98515625\n",
      "Epoch 111/500, Train Loss: 87044.7347972973, Val Loss: 85308.57890625\n",
      "Epoch 121/500, Train Loss: 82212.46589949324, Val Loss: 80603.80703125\n",
      "Epoch 131/500, Train Loss: 76178.84227195945, Val Loss: 75553.000390625\n",
      "Epoch 141/500, Train Loss: 70949.77100929055, Val Loss: 70068.66328125\n",
      "Epoch 151/500, Train Loss: 65196.94700168919, Val Loss: 64253.13046875\n",
      "Epoch 161/500, Train Loss: 59108.38492398649, Val Loss: 58379.178515625\n",
      "Epoch 171/500, Train Loss: 53334.37816722973, Val Loss: 52864.2087890625\n",
      "Epoch 181/500, Train Loss: 48671.70993454392, Val Loss: 48208.9142578125\n",
      "Epoch 191/500, Train Loss: 44687.00902660473, Val Loss: 44768.170703125\n",
      "Epoch 201/500, Train Loss: 41864.24007601351, Val Loss: 42507.1640625\n",
      "Epoch 211/500, Train Loss: 40744.93628589527, Val Loss: 41066.26044921875\n",
      "Epoch 221/500, Train Loss: 39003.9633129223, Val Loss: 40110.79755859375\n",
      "Epoch 231/500, Train Loss: 38158.30685177365, Val Loss: 39402.84775390625\n",
      "Epoch 241/500, Train Loss: 37405.91686021959, Val Loss: 38813.15556640625\n",
      "Epoch 251/500, Train Loss: 37228.27359586149, Val Loss: 38251.2791015625\n",
      "Epoch 261/500, Train Loss: 35973.97756545608, Val Loss: 37750.13896484375\n",
      "Epoch 271/500, Train Loss: 34778.71779983108, Val Loss: 37283.48076171875\n",
      "Epoch 281/500, Train Loss: 34620.69636824324, Val Loss: 36846.47373046875\n",
      "Epoch 291/500, Train Loss: 34167.97909628379, Val Loss: 36409.38232421875\n",
      "Epoch 301/500, Train Loss: 33759.29455236487, Val Loss: 35993.73618164063\n",
      "Epoch 311/500, Train Loss: 32943.14548141892, Val Loss: 35605.644775390625\n",
      "Epoch 321/500, Train Loss: 32621.329286317567, Val Loss: 35272.724609375\n",
      "Epoch 331/500, Train Loss: 32053.429793074323, Val Loss: 34930.29946289062\n",
      "Epoch 341/500, Train Loss: 31752.334776182433, Val Loss: 34613.920654296875\n",
      "Epoch 351/500, Train Loss: 31203.15160472973, Val Loss: 34292.85537109375\n",
      "Epoch 361/500, Train Loss: 31063.68042652027, Val Loss: 33976.16694335938\n",
      "Epoch 371/500, Train Loss: 30381.674461570947, Val Loss: 33684.67026367188\n",
      "Epoch 381/500, Train Loss: 30204.120038006757, Val Loss: 33427.992919921875\n",
      "Epoch 391/500, Train Loss: 30220.009712837837, Val Loss: 33178.18071289062\n",
      "Epoch 401/500, Train Loss: 29749.26831714527, Val Loss: 32942.90595703125\n",
      "Epoch 411/500, Train Loss: 29330.59348606419, Val Loss: 32687.73447265625\n",
      "Epoch 421/500, Train Loss: 28999.54983108108, Val Loss: 32516.3541015625\n",
      "Epoch 431/500, Train Loss: 28670.777290962837, Val Loss: 32271.40397949219\n",
      "Epoch 441/500, Train Loss: 28553.65767525338, Val Loss: 32065.014599609374\n",
      "Epoch 451/500, Train Loss: 28309.81957347973, Val Loss: 31897.04426269531\n",
      "Epoch 461/500, Train Loss: 28375.577755489863, Val Loss: 31795.566259765626\n",
      "Epoch 471/500, Train Loss: 27517.044525971283, Val Loss: 31611.439184570314\n",
      "Epoch 481/500, Train Loss: 27783.07593433277, Val Loss: 31444.935180664062\n",
      "Epoch 491/500, Train Loss: 27516.152660472973, Val Loss: 31345.967651367188\n"
     ]
    }
   ],
   "source": [
    "num_epochs = 500\n",
    "train_losses = []\n",
    "val_losses = []\n",
    "for epoch in range(num_epochs):\n",
    "    model.train()\n",
    "    total_loss = 0\n",
    "    for X_batch, y_batch in train_loader:\n",
    "        optimizer.zero_grad()\n",
    "        output = model(X_batch)\n",
    "        loss = criterion(output, y_batch)\n",
    "        rmse_loss = torch.sqrt(loss)  # Calculate RMSE\n",
    "        rmse_loss.backward()\n",
    "        optimizer.step()\n",
    "        total_loss += rmse_loss.item()\n",
    "    avg_train_loss = total_loss / len(train_loader)\n",
    "    train_losses.append(avg_train_loss)\n",
    "\n",
    "    model.eval()\n",
    "    total_val_loss = 0\n",
    "    with torch.no_grad():\n",
    "        for X_batch, y_batch in val_loader:\n",
    "            output = model(X_batch)\n",
    "            loss = criterion(output, y_batch)\n",
    "            rmse_loss = torch.sqrt(loss)  # Calculate RMSE\n",
    "            total_val_loss += rmse_loss.item()\n",
    "    avg_val_loss = total_val_loss / len(val_loader)\n",
    "    val_losses.append(avg_val_loss)\n",
    "    if epoch % 10 == 0:\n",
    "        print(f'Epoch {epoch + 1}/{num_epochs}, Train Loss: {avg_train_loss}, Val Loss: {avg_val_loss}')\n"
   ]
  },
  {
   "cell_type": "code",
   "execution_count": 426,
   "id": "798aed8e-dfa6-4d20-bbc0-2405d0a3e1d6",
   "metadata": {},
   "outputs": [
    {
     "data": {
      "image/png": "[encoded data removed]",
      "text/plain": [
       "<Figure size 640x480 with 1 Axes>"
      ]
     },
     "metadata": {},
     "output_type": "display_data"
    }
   ],
   "source": [
    "plt.plot(train_losses, label='Train Loss')\n",
    "plt.plot(val_losses, label='Validation Loss')\n",
    "plt.xlabel('Epochs')\n",
    "plt.ylabel('Loss')\n",
    "plt.legend()\n",
    "plt.show()\n",
    "torch.save(model, 'model_Housing_2.pth')"
   ]
  },
  {
   "cell_type": "code",
   "execution_count": 427,
   "id": "6278cf2d-84e2-400c-988b-dc1b9e7b8511",
   "metadata": {},
   "outputs": [
    {
     "name": "stdout",
     "output_type": "stream",
     "text": [
      "Final Validation loss : 31242.385986328125\n",
      "Total number of parameters in the model: 19841\n"
     ]
    }
   ],
   "source": [
    "model.eval()\n",
    "total_val_loss = 0\n",
    "with torch.no_grad():\n",
    "        for X_batch, y_batch in val_loader:\n",
    "            output = model(X_batch)\n",
    "            y_pred.extend(output.view(-1).tolist())\n",
    "            y_true.extend(y_batch.view(-1).tolist())\n",
    "            loss = criterion(output, y_batch)\n",
    "            rmse_loss = torch.sqrt(loss)  # Calculate RMS\n",
    "            total_val_loss += rmse_loss.item()\n",
    "        avg_val_loss = total_val_loss / len(val_loader)\n",
    "print(\"Final Validation loss :\", avg_val_loss)\n",
    "total_parameters = sum(p.numel() for p in model.parameters())\n",
    "print(f'Total number of parameters in the model: {total_parameters}')"
   ]
  },
  {
   "cell_type": "markdown",
   "id": "c9a92ca4-1250-4716-b6e8-98660279244b",
   "metadata": {},
   "source": [
    "2.c increase the complexity of the network for problem 2. b and compare your results against 2.b. (10pt)"
   ]
  },
  {
   "cell_type": "code",
   "execution_count": 430,
   "id": "09b446b4-cf9c-4605-8749-0f79e99ac1b6",
   "metadata": {},
   "outputs": [],
   "source": [
    "class Housing_extended(nn.Module):\n",
    "    def __init__(self, input_size):\n",
    "        super(Housing_extended, self).__init__()\n",
    "        self.fc1 = nn.Linear(input_size, 1024)  \n",
    "        self.fc2 = nn.Linear(1024, 512)\n",
    "        self.fc3 = nn.Linear(512, 256)\n",
    "        self.fc4 = nn.Linear(256, 128)\n",
    "        self.fc5 = nn.Linear(128, 64)\n",
    "        self.fc6 = nn.Linear(64, 1)  \n",
    "        self.relu = nn.ReLU()\n",
    "\n",
    "    def forward(self, x):\n",
    "        x = self.relu(self.fc1(x))\n",
    "        x = self.relu(self.fc2(x))\n",
    "        x = self.relu(self.fc3(x))\n",
    "        x = self.relu(self.fc4(x))\n",
    "        x = self.fc6(self.relu(self.fc5(x)))  \n",
    "        return x"
   ]
  },
  {
   "cell_type": "code",
   "execution_count": 431,
   "id": "7a2fb025-9e46-4e1e-9a8d-c34f867f2699",
   "metadata": {},
   "outputs": [],
   "source": [
    "input_size = len(X_val_scaled[0])\n",
    "model = Housing_extended(input_size).to(device)\n",
    "criterion = nn.MSELoss()\n",
    "optimizer = optim.Adam(model.parameters(), lr=0.0001)"
   ]
  },
  {
   "cell_type": "code",
   "execution_count": 432,
   "id": "9d3309a7-e90b-4400-9958-7376097e12e6",
   "metadata": {},
   "outputs": [
    {
     "name": "stdout",
     "output_type": "stream",
     "text": [
      "Epoch 1/500, Train Loss: 196571.59923986485, Val Loss: 196712.9125\n",
      "Epoch 11/500, Train Loss: 39259.56788429054, Val Loss: 40446.638671875\n",
      "Epoch 21/500, Train Loss: 28575.667652027027, Val Loss: 32160.990234375\n",
      "Epoch 31/500, Train Loss: 26131.73044235642, Val Loss: 29923.775512695312\n",
      "Epoch 41/500, Train Loss: 24507.45288745777, Val Loss: 28863.813427734374\n",
      "Epoch 51/500, Train Loss: 22834.277264569257, Val Loss: 28714.97626953125\n",
      "Epoch 61/500, Train Loss: 22216.313766891893, Val Loss: 28233.38603515625\n",
      "Epoch 71/500, Train Loss: 21495.64595650338, Val Loss: 27454.34931640625\n",
      "Epoch 81/500, Train Loss: 20932.354122677363, Val Loss: 27312.40593261719\n",
      "Epoch 91/500, Train Loss: 20417.12642525338, Val Loss: 27307.23447265625\n",
      "Epoch 101/500, Train Loss: 19499.034522804053, Val Loss: 27114.806201171876\n",
      "Epoch 111/500, Train Loss: 19379.300438133447, Val Loss: 27292.801220703124\n",
      "Epoch 121/500, Train Loss: 18875.54903927365, Val Loss: 27322.713427734376\n",
      "Epoch 131/500, Train Loss: 18615.825802364863, Val Loss: 27500.41982421875\n",
      "Epoch 141/500, Train Loss: 18158.879091005067, Val Loss: 27067.6876953125\n",
      "Epoch 151/500, Train Loss: 17722.891799514357, Val Loss: 27126.98427734375\n",
      "Epoch 161/500, Train Loss: 17494.513038429053, Val Loss: 27057.109375\n",
      "Epoch 171/500, Train Loss: 17088.78077491554, Val Loss: 27469.88505859375\n",
      "Epoch 181/500, Train Loss: 17022.05051731419, Val Loss: 26990.975341796875\n",
      "Epoch 191/500, Train Loss: 16530.61647487331, Val Loss: 27099.0962890625\n",
      "Epoch 201/500, Train Loss: 16298.141759923987, Val Loss: 27190.7576171875\n",
      "Epoch 211/500, Train Loss: 16018.825802364865, Val Loss: 27081.732861328124\n",
      "Epoch 221/500, Train Loss: 15718.521326013513, Val Loss: 26991.416943359374\n",
      "Epoch 231/500, Train Loss: 15483.614785684122, Val Loss: 27042.325439453125\n",
      "Epoch 241/500, Train Loss: 15278.483319256757, Val Loss: 27087.439184570314\n",
      "Epoch 251/500, Train Loss: 15122.181244721283, Val Loss: 27263.379736328126\n",
      "Epoch 261/500, Train Loss: 15340.56102195946, Val Loss: 27087.1599609375\n",
      "Epoch 271/500, Train Loss: 14658.16258445946, Val Loss: 27095.166259765625\n",
      "Epoch 281/500, Train Loss: 14558.34741870777, Val Loss: 27011.93752441406\n",
      "Epoch 291/500, Train Loss: 14533.897830447635, Val Loss: 26905.028369140626\n",
      "Epoch 301/500, Train Loss: 14197.087679476352, Val Loss: 26938.071923828124\n",
      "Epoch 311/500, Train Loss: 14193.330460831925, Val Loss: 26846.42919921875\n",
      "Epoch 321/500, Train Loss: 13866.80149387669, Val Loss: 26884.12939453125\n",
      "Epoch 331/500, Train Loss: 13678.575380067568, Val Loss: 26817.5548828125\n",
      "Epoch 341/500, Train Loss: 13444.46971336571, Val Loss: 26992.60146484375\n",
      "Epoch 351/500, Train Loss: 13471.887985641892, Val Loss: 27028.26640625\n",
      "Epoch 361/500, Train Loss: 13503.679608319257, Val Loss: 26968.257470703124\n",
      "Epoch 371/500, Train Loss: 12984.145125105575, Val Loss: 26958.93244628906\n",
      "Epoch 381/500, Train Loss: 13219.656540329392, Val Loss: 26838.77548828125\n",
      "Epoch 391/500, Train Loss: 12718.41626636402, Val Loss: 26900.86513671875\n",
      "Epoch 401/500, Train Loss: 12462.695668813345, Val Loss: 27020.45830078125\n",
      "Epoch 411/500, Train Loss: 12564.693464949325, Val Loss: 27069.029345703126\n",
      "Epoch 421/500, Train Loss: 12638.44581397804, Val Loss: 27489.51181640625\n",
      "Epoch 431/500, Train Loss: 12336.979940878378, Val Loss: 26993.892724609374\n",
      "Epoch 441/500, Train Loss: 12250.961043074325, Val Loss: 26914.9853515625\n",
      "Epoch 451/500, Train Loss: 12058.644821579392, Val Loss: 27083.571923828124\n",
      "Epoch 461/500, Train Loss: 11892.629420924832, Val Loss: 27067.050927734374\n",
      "Epoch 471/500, Train Loss: 11733.6884765625, Val Loss: 26944.041259765625\n",
      "Epoch 481/500, Train Loss: 11593.264819995777, Val Loss: 27194.934228515624\n",
      "Epoch 491/500, Train Loss: 11604.518040012668, Val Loss: 27168.707275390625\n"
     ]
    }
   ],
   "source": [
    "num_epochs = 500\n",
    "train_losses = []\n",
    "val_losses = []\n",
    "for epoch in range(num_epochs):\n",
    "    model.train()\n",
    "    total_loss = 0\n",
    "    for X_batch, y_batch in train_loader:\n",
    "        optimizer.zero_grad()\n",
    "        output = model(X_batch)\n",
    "        loss = criterion(output, y_batch)\n",
    "        rmse_loss = torch.sqrt(loss)  # Calculate RMSE\n",
    "        rmse_loss.backward()\n",
    "        optimizer.step()\n",
    "        total_loss += rmse_loss.item()\n",
    "    avg_train_loss = total_loss / len(train_loader)\n",
    "    train_losses.append(avg_train_loss)\n",
    "\n",
    "    model.eval()\n",
    "    total_val_loss = 0\n",
    "    with torch.no_grad():\n",
    "        for X_batch, y_batch in val_loader:\n",
    "            output = model(X_batch)\n",
    "            loss = criterion(output, y_batch)\n",
    "            rmse_loss = torch.sqrt(loss)  # Calculate RMSE\n",
    "            total_val_loss += rmse_loss.item()\n",
    "    avg_val_loss = total_val_loss / len(val_loader)\n",
    "    val_losses.append(avg_val_loss)\n",
    "    if epoch % 10 == 0:\n",
    "        print(f'Epoch {epoch + 1}/{num_epochs}, Train Loss: {avg_train_loss}, Val Loss: {avg_val_loss}')\n"
   ]
  },
  {
   "cell_type": "code",
   "execution_count": 433,
   "id": "739c6b11-0636-49b0-90bc-bcb3c814646c",
   "metadata": {},
   "outputs": [
    {
     "data": {
      "image/png": "[encoded data removed]",
      "text/plain": [
       "<Figure size 640x480 with 1 Axes>"
      ]
     },
     "metadata": {},
     "output_type": "display_data"
    }
   ],
   "source": [
    "plt.plot(train_losses, label='Train Loss')\n",
    "plt.plot(val_losses, label='Validation Loss')\n",
    "plt.xlabel('Epochs')\n",
    "plt.ylabel('Loss')\n",
    "plt.legend()\n",
    "plt.show()\n",
    "torch.save(model, 'model_Housing_3.pth')"
   ]
  },
  {
   "cell_type": "code",
   "execution_count": 434,
   "id": "3289349a-ab8a-4703-877f-f4f61a817c05",
   "metadata": {},
   "outputs": [
    {
     "name": "stdout",
     "output_type": "stream",
     "text": [
      "Final Validation loss : 27152.571044921875\n",
      "Total number of parameters in the model: 773121\n"
     ]
    }
   ],
   "source": [
    "model.eval()\n",
    "total_val_loss = 0\n",
    "with torch.no_grad():\n",
    "        for X_batch, y_batch in val_loader:\n",
    "            output = model(X_batch)\n",
    "            y_pred.extend(output.view(-1).tolist())\n",
    "            y_true.extend(y_batch.view(-1).tolist())\n",
    "            loss = criterion(output, y_batch)\n",
    "            rmse_loss = torch.sqrt(loss)  # Calculate RMS\n",
    "            total_val_loss += rmse_loss.item()\n",
    "        avg_val_loss = total_val_loss / len(val_loader)\n",
    "print(\"Final Validation loss :\", avg_val_loss)\n",
    "total_parameters = sum(p.numel() for p in model.parameters())\n",
    "print(f'Total number of parameters in the model: {total_parameters}')"
   ]
  }
 ],
 "metadata": {
  "kernelspec": {
   "display_name": "Python 3 (ipykernel)",
   "language": "python",
   "name": "python3"
  },
  "language_info": {
   "codemirror_mode": {
    "name": "ipython",
    "version": 3
   },
   "file_extension": ".py",
   "mimetype": "text/x-python",
   "name": "python",
   "nbconvert_exporter": "python",
   "pygments_lexer": "ipython3",
   "version": "3.9.0"
  }
 },
 "nbformat": 4,
 "nbformat_minor": 5
}
