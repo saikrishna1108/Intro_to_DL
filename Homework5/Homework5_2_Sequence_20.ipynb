{
  "cells": [
    {
      "cell_type": "code",
      "execution_count": 6,
      "metadata": {
        "id": "MdZvr5x9hNxi"
      },
      "outputs": [],
      "source": [
        "import torch\n",
        "import torch.nn as nn\n",
        "import torch.optim as optim\n",
        "from torch.utils.data import DataLoader, Dataset, random_split\n",
        "import numpy as np\n",
        "import requests\n",
        "import time\n",
        "\n",
        "# Download the dataset\n",
        "url = \"https://raw.githubusercontent.com/karpathy/char-rnn/master/data/tinyshakespeare/input.txt\"\n",
        "response = requests.get(url)\n",
        "text = response.text\n",
        "\n",
        "# Prepare the dataset\n",
        "sequence_length = 20\n",
        "chars = sorted(list(set(text)))\n",
        "char_to_int = {ch: i for i, ch in enumerate(chars)}\n",
        "int_to_char = {i: ch for i, ch in enumerate(chars)}\n",
        "encoded_text = [char_to_int[ch] for ch in text]\n",
        "\n",
        "# Create sequences and targets\n",
        "sequences = []\n",
        "targets = []\n",
        "for i in range(0, len(encoded_text) - sequence_length):\n",
        "    seq = encoded_text[i:i+sequence_length]\n",
        "    target = encoded_text[i+sequence_length]\n",
        "    sequences.append(seq)\n",
        "    targets.append(target)\n",
        "\n",
        "# Convert to PyTorch tensors\n",
        "sequences = torch.tensor(sequences, dtype=torch.long)\n",
        "targets = torch.tensor(targets, dtype=torch.long)\n",
        "\n",
        "# Define the dataset class\n",
        "class CharDataset(Dataset):\n",
        "    def __init__(self, sequences, targets):\n",
        "        self.sequences = sequences\n",
        "        self.targets = targets\n",
        "\n",
        "    def __len__(self):\n",
        "        return len(self.sequences)\n",
        "\n",
        "    def __getitem__(self, index):\n",
        "        return self.sequences[index], self.targets[index]\n",
        "\n",
        "# Split the dataset into training and testing sets\n",
        "dataset = CharDataset(sequences, targets)\n",
        "train_size = int(len(dataset) * 0.8)\n",
        "test_size = len(dataset) - train_size\n",
        "train_dataset, test_dataset = random_split(dataset, [train_size, test_size])\n",
        "\n",
        "# Create data loaders\n",
        "batch_size = 64\n",
        "train_loader = DataLoader(train_dataset, shuffle=True, batch_size=batch_size)\n",
        "test_loader = DataLoader(test_dataset, shuffle=False, batch_size=batch_size)"
      ]
    },
    {
      "cell_type": "code",
      "execution_count": 7,
      "metadata": {
        "id": "xunXOIQgi7lE"
      },
      "outputs": [],
      "source": [
        "class TransformerModel(nn.Module):\n",
        "    def __init__(self, input_size, hidden_size, output_size, num_layers, nhead):\n",
        "        super(TransformerModel, self).__init__()\n",
        "        self.embedding = nn.Embedding(input_size, hidden_size)\n",
        "        encoder_layers = nn.TransformerEncoderLayer(hidden_size, nhead)\n",
        "        self.transformer_encoder = nn.TransformerEncoder(encoder_layers, num_layers)\n",
        "        self.fc = nn.Linear(hidden_size, output_size)\n",
        "\n",
        "    def forward(self, x):\n",
        "        embedded = self.embedding(x)\n",
        "        transformer_output = self.transformer_encoder(embedded)\n",
        "        output = self.fc(transformer_output[:, -1, :])  # Get the output of the last Transformer block\n",
        "        return output\n"
      ]
    },
    {
      "cell_type": "code",
      "execution_count": 8,
      "metadata": {
        "colab": {
          "base_uri": "https://localhost:8080/"
        },
        "id": "Jk6z_yZWi_An",
        "outputId": "6288f7fb-4b04-409b-a3fb-21d5e167a8e8"
      },
      "outputs": [],
      "source": [
        "device = torch.device(\"cuda\" if torch.cuda.is_available() else \"cpu\")\n",
        "hidden_size = 128\n",
        "num_layers = 3\n",
        "num_head = 2\n",
        "learning_rate = 0.001\n",
        "epochs = 10\n",
        "model = TransformerModel(len(chars), hidden_size, len(chars), num_layers, num_head)\n",
        "model = model.to(device)\n",
        "criterion = nn.CrossEntropyLoss()\n",
        "optimizer = optim.Adam(model.parameters(), lr=learning_rate)"
      ]
    },
    {
      "cell_type": "code",
      "execution_count": 9,
      "metadata": {
        "colab": {
          "base_uri": "https://localhost:8080/"
        },
        "id": "bjvszIUmjE-q",
        "outputId": "b733c0d6-6d24-444f-c856-73ee0a462f4f"
      },
      "outputs": [
        {
          "name": "stdout",
          "output_type": "stream",
          "text": [
            "Epoch 1, Train Loss: 2.519549455334185, Validation Loss: 2.4880177918279918, Validation Accuracy: 0.2681295528409728\n",
            "Epoch 2, Train Loss: 2.4874208505338884, Validation Loss: 2.4760990618772336, Validation Accuracy: 0.268676454107363\n",
            "Epoch 3, Train Loss: 2.4816236661176196, Validation Loss: 2.474202023235442, Validation Accuracy: 0.27184130897680153\n",
            "Epoch 4, Train Loss: 2.4793150275861997, Validation Loss: 2.470321856289985, Validation Accuracy: 0.2705009525944189\n",
            "Epoch 5, Train Loss: 2.4763068766100793, Validation Loss: 2.47033997193909, Validation Accuracy: 0.269765773842878\n",
            "Epoch 6, Train Loss: 2.4786783396005965, Validation Loss: 2.468403602842925, Validation Accuracy: 0.27041129664910907\n",
            "Epoch 7, Train Loss: 2.478849843788643, Validation Loss: 2.4691199783774938, Validation Accuracy: 0.26685643841757256\n",
            "Epoch 8, Train Loss: 2.4757069041829363, Validation Loss: 2.467088827029293, Validation Accuracy: 0.27275579961896224\n",
            "Epoch 9, Train Loss: 2.477764349897286, Validation Loss: 2.4655609907853315, Validation Accuracy: 0.2729395943068475\n",
            "Epoch 10, Train Loss: 2.4746228598283326, Validation Loss: 2.465269866714854, Validation Accuracy: 0.2694250812507004\n",
            "Total time : 1114.6877496242523\n"
          ]
        }
      ],
      "source": [
        "import time\n",
        "start = time.time()\n",
        "for epoch in range(epochs):\n",
        "        model.train()\n",
        "        train_loss = 0.0\n",
        "        for inputs, targets in train_loader:\n",
        "            inputs, targets = inputs.to(device), targets.to(device)  # Move data to device\n",
        "            optimizer.zero_grad()\n",
        "            output = model(inputs)\n",
        "            loss = criterion(output, targets)\n",
        "            loss.backward()\n",
        "            optimizer.step()\n",
        "            train_loss += loss.item() * inputs.size(0)\n",
        "\n",
        "        epoch_train_loss = train_loss / len(train_loader.dataset)\n",
        "\n",
        "        # Validation\n",
        "        model.eval()\n",
        "        val_loss = 0.0\n",
        "        correct = 0\n",
        "        total = 0\n",
        "        with torch.no_grad():\n",
        "            for inputs, targets in test_loader:\n",
        "                inputs, targets = inputs.to(device), targets.to(device)  # Move data to device\n",
        "                val_output = model(inputs)\n",
        "                loss = criterion(val_output, targets)\n",
        "                val_loss += loss.item() * inputs.size(0)\n",
        "                _, predicted = torch.max(val_output, 1)\n",
        "                total += targets.size(0)\n",
        "                correct += (predicted == targets).sum().item()\n",
        "\n",
        "        epoch_val_loss = val_loss / len(test_loader.dataset)\n",
        "        epoch_val_accuracy = correct / total\n",
        "\n",
        "        if (epoch+1) % 1 == 0:\n",
        "            print(f'Epoch {epoch+1}, Train Loss: {epoch_train_loss}, Validation Loss: {epoch_val_loss}, Validation Accuracy: {epoch_val_accuracy}')\n",
        "end =time.time()\n",
        "print(\"Total time :\", end-start)"
      ]
    }
  ],
  "metadata": {
    "accelerator": "GPU",
    "colab": {
      "gpuType": "T4",
      "provenance": []
    },
    "kernelspec": {
      "display_name": "Python 3",
      "name": "python3"
    },
    "language_info": {
      "codemirror_mode": {
        "name": "ipython",
        "version": 3
      },
      "file_extension": ".py",
      "mimetype": "text/x-python",
      "name": "python",
      "nbconvert_exporter": "python",
      "pygments_lexer": "ipython3",
      "version": "3.7.12"
    }
  },
  "nbformat": 4,
  "nbformat_minor": 0
}
