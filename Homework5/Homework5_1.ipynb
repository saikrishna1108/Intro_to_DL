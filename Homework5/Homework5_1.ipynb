{
  "cells": [
    {
      "cell_type": "code",
      "execution_count": 15,
      "id": "e93fbaa4-c28a-403f-91c0-12f104df1549",
      "metadata": {
        "id": "e93fbaa4-c28a-403f-91c0-12f104df1549"
      },
      "outputs": [],
      "source": [
        "\n",
        "text = '''Next character prediction is a fundamental task in the field of natural language processing (NLP) that involves predicting the next character in a sequence of text based on the characters that precede it. This task is essential for various applications, including text auto-completion, spell checking, and even in the development of sophisticated AI models capable of generating human-like text.\n",
        "\n",
        "At its core, next character prediction relies on statistical models or deep learning algorithms to analyze a given sequence of text and predict which character is most likely to follow. These predictions are based on patterns and relationships learned from large datasets of text during the training phase of the model.\n",
        "\n",
        "One of the most popular approaches to next character prediction involves the use of Recurrent Neural Networks (RNNs), and more specifically, a variant called Long Short-Term Memory (LSTM) networks. RNNs are particularly well-suited for sequential data like text, as they can maintain information in 'memory' about previous characters to inform the prediction of the next character. LSTM networks enhance this capability by being able to remember long-term dependencies, making them even more effective for next character prediction tasks.\n",
        "\n",
        "Training a model for next character prediction involves feeding it large amounts of text data, allowing it to learn the probability of each character's appearance following a sequence of characters. During this training process, the model adjusts its parameters to minimize the difference between its predictions and the actual outcomes, thus improving its predictive accuracy over time.\n",
        "\n",
        "Once trained, the model can be used to predict the next character in a given piece of text by considering the sequence of characters that precede it. This can enhance user experience in text editing software, improve efficiency in coding environments with auto-completion features, and enable more natural interactions with AI-based chatbots and virtual assistants.\n",
        "\n",
        "In summary, next character prediction plays a crucial role in enhancing the capabilities of various NLP applications, making text-based interactions more efficient, accurate, and human-like. Through the use of advanced machine learning models like RNNs and LSTMs, next character prediction continues to evolve, opening new possibilities for the future of text-based technology.'''"
      ]
    },
    {
      "cell_type": "code",
      "execution_count": 16,
      "id": "2898517e-86cd-4710-b51a-be437cfbdfba",
      "metadata": {
        "id": "2898517e-86cd-4710-b51a-be437cfbdfba"
      },
      "outputs": [],
      "source": [
        "import torch\n",
        "import time\n",
        "import torch.nn as nn\n",
        "import torch.optim as optim\n",
        "import numpy as np\n",
        "from sklearn.model_selection import train_test_split\n",
        "from torchsummary import summary"
      ]
    },
    {
      "cell_type": "code",
      "execution_count": 17,
      "id": "c048a9c7-4292-4bbf-a8e6-048eda5e02a5",
      "metadata": {
        "id": "c048a9c7-4292-4bbf-a8e6-048eda5e02a5"
      },
      "outputs": [],
      "source": [
        "device = torch.device(\"cuda\" if torch.cuda.is_available() else \"cpu\")"
      ]
    },
    {
      "cell_type": "code",
      "execution_count": 18,
      "id": "fe131a71-541e-484f-96b8-4b762187a3cf",
      "metadata": {
        "id": "fe131a71-541e-484f-96b8-4b762187a3cf"
      },
      "outputs": [],
      "source": [
        "import torch\n",
        "from sklearn.model_selection import train_test_split\n",
        "\n",
        "def preprocess_data(text, max_length):\n",
        "    sequences = [text[i:i + max_length] for i in range(len(text) - max_length)]\n",
        "    labels = [text[i + max_length] for i in range(len(text) - max_length)]\n",
        "\n",
        "    # Creating character vocabulary\n",
        "    chars = sorted(list(set(text)))\n",
        "    char_to_ix = {ch: i for i, ch in enumerate(chars)}\n",
        "\n",
        "    X = torch.tensor([[char_to_ix[ch] for ch in seq] for seq in sequences], dtype=torch.long)\n",
        "    y = torch.tensor([char_to_ix[label] for label in labels], dtype=torch.long)\n",
        "\n",
        "    # Splitting the dataset into training and validation sets\n",
        "    X_train, X_val, y_train, y_val = train_test_split(X, y, test_size=0.2, random_state=100)\n",
        "\n",
        "    return X_train, y_train, X_val, y_val, len(chars)\n",
        "\n",
        "max_length = 10\n",
        "X_train, y_train, X_val, y_val, input_size = preprocess_data(text, max_length)\n",
        "\n",
        "X_train = X_train.to(device)\n",
        "y_train = y_train.to(device)\n",
        "X_val = X_val.to(device)\n",
        "y_val = y_val.to(device)"
      ]
    },
    {
      "cell_type": "code",
      "execution_count": 19,
      "id": "28a1a815-8027-439d-951d-95c7a7079865",
      "metadata": {
        "id": "28a1a815-8027-439d-951d-95c7a7079865"
      },
      "outputs": [],
      "source": [
        "class TransformerModel(nn.Module):\n",
        "    def __init__(self, input_size, hidden_size, output_size, num_layers, nhead):\n",
        "        super(TransformerModel, self).__init__()\n",
        "        self.embedding = nn.Embedding(input_size, hidden_size)\n",
        "        encoder_layers = nn.TransformerEncoderLayer(hidden_size, nhead)\n",
        "        self.transformer_encoder = nn.TransformerEncoder(encoder_layers, num_layers)\n",
        "        self.fc = nn.Linear(hidden_size, output_size)\n",
        "\n",
        "    def forward(self, x):\n",
        "        embedded = self.embedding(x)\n",
        "        transformer_output = self.transformer_encoder(embedded)\n",
        "        output = self.fc(transformer_output[:, -1, :])  # Get the output of the last Transformer block\n",
        "        return output\n"
      ]
    },
    {
      "cell_type": "code",
      "execution_count": 20,
      "id": "486b5321-0de7-480b-af9a-a78202a29c4e",
      "metadata": {
        "id": "486b5321-0de7-480b-af9a-a78202a29c4e"
      },
      "outputs": [],
      "source": [
        "hidden_size = 128\n",
        "num_layers = 3\n",
        "num_head = 2\n",
        "learning_rate = 0.001\n",
        "epochs = 100\n"
      ]
    },
    {
      "cell_type": "code",
      "execution_count": 21,
      "id": "4217926d-4e16-470a-ae45-45aedd839822",
      "metadata": {
        "colab": {
          "base_uri": "https://localhost:8080/"
        },
        "id": "4217926d-4e16-470a-ae45-45aedd839822",
        "outputId": "3654a3ea-d2ed-4e83-d2ed-ad7dd3a37a83"
      },
      "outputs": [
        {
          "output_type": "stream",
          "name": "stderr",
          "text": [
            "/usr/local/lib/python3.10/dist-packages/torch/nn/modules/transformer.py:286: UserWarning: enable_nested_tensor is True, but self.use_nested_tensor is False because encoder_layer.self_attn.batch_first was not True(use batch_first for better inference performance)\n",
            "  warnings.warn(f\"enable_nested_tensor is True, but self.use_nested_tensor is False because {why_not_sparsity_fast_path}\")\n"
          ]
        }
      ],
      "source": [
        "model = TransformerModel(input_size, hidden_size, input_size, num_layers, num_head)\n",
        "model = model.to(device)\n",
        "criterion = nn.CrossEntropyLoss()\n",
        "optimizer = optim.Adam(model.parameters(), lr=learning_rate)"
      ]
    },
    {
      "cell_type": "code",
      "execution_count": 22,
      "id": "96a375d7-284d-400d-8957-24c264253e0f",
      "metadata": {
        "colab": {
          "base_uri": "https://localhost:8080/"
        },
        "id": "96a375d7-284d-400d-8957-24c264253e0f",
        "outputId": "0d7425c6-5eea-47cc-eec2-f728e2ee7fab"
      },
      "outputs": [
        {
          "output_type": "stream",
          "name": "stdout",
          "text": [
            "Epoch 10, train Loss: 2.6195342540740967, val loss: 2.660613536834717, val accuracy: 0.25995805859565735\n",
            "Epoch 20, train Loss: 2.411149263381958, val loss: 2.5072903633117676, val accuracy: 0.2557651996612549\n",
            "Epoch 30, train Loss: 2.2944910526275635, val loss: 2.4634010791778564, val accuracy: 0.2620545029640198\n",
            "Epoch 40, train Loss: 2.2326853275299072, val loss: 2.4134485721588135, val accuracy: 0.27463310956954956\n",
            "Epoch 50, train Loss: 2.210275888442993, val loss: 2.4017648696899414, val accuracy: 0.2620545029640198\n",
            "Epoch 60, train Loss: 2.1934540271759033, val loss: 2.4023497104644775, val accuracy: 0.2704402506351471\n",
            "Epoch 70, train Loss: 2.1836631298065186, val loss: 2.4033145904541016, val accuracy: 0.2704402506351471\n",
            "Epoch 80, train Loss: 2.18159556388855, val loss: 2.4052844047546387, val accuracy: 0.2641509473323822\n",
            "Epoch 90, train Loss: 2.1790931224823, val loss: 2.4079995155334473, val accuracy: 0.26624736189842224\n",
            "Epoch 100, train Loss: 2.1673896312713623, val loss: 2.409062385559082, val accuracy: 0.2641509473323822\n",
            "Total_time  19.701571702957153\n"
          ]
        }
      ],
      "source": [
        "start  = time.time()\n",
        "for epoch in range(epochs):\n",
        "    model.train()\n",
        "    optimizer.zero_grad()\n",
        "\n",
        "    output = model(X_train)\n",
        "    loss = criterion(output, y_train)\n",
        "    loss.backward()\n",
        "    optimizer.step()\n",
        "\n",
        "    model.eval()\n",
        "    with torch.no_grad():\n",
        "        val_output = model(X_val)\n",
        "        val_loss = criterion(val_output, y_val)\n",
        "        _, predicted = torch.max(val_output, 1)\n",
        "        val_accuracy = (predicted == y_val).float().mean()\n",
        "\n",
        "    if (epoch+1) % 10 == 0:\n",
        "        print(f'Epoch {epoch+1}, train Loss: {loss.item()}, val loss: {val_loss.item()}, val accuracy: {val_accuracy.item()}')\n",
        "end = time.time()\n",
        "print(\"Total_time \", end-start )"
      ]
    },
    {
      "cell_type": "code",
      "execution_count": 23,
      "id": "79ce86f6-492a-4965-be2f-936f021f4beb",
      "metadata": {
        "colab": {
          "base_uri": "https://localhost:8080/"
        },
        "id": "79ce86f6-492a-4965-be2f-936f021f4beb",
        "outputId": "f495de07-6a67-4d73-e20b-fe028a095e8b"
      },
      "outputs": [
        {
          "output_type": "stream",
          "name": "stderr",
          "text": [
            "/usr/local/lib/python3.10/dist-packages/torch/nn/modules/transformer.py:286: UserWarning: enable_nested_tensor is True, but self.use_nested_tensor is False because encoder_layer.self_attn.batch_first was not True(use batch_first for better inference performance)\n",
            "  warnings.warn(f\"enable_nested_tensor is True, but self.use_nested_tensor is False because {why_not_sparsity_fast_path}\")\n"
          ]
        },
        {
          "output_type": "stream",
          "name": "stdout",
          "text": [
            "Epoch 10, train Loss: 2.5927019119262695, val loss: 2.5438458919525146, val accuracy: 0.22947368025779724\n",
            "Epoch 20, train Loss: 2.3938372135162354, val loss: 2.4202120304107666, val accuracy: 0.2631578743457794\n",
            "Epoch 30, train Loss: 2.291459321975708, val loss: 2.385174512863159, val accuracy: 0.29894736409187317\n",
            "Epoch 40, train Loss: 2.253955364227295, val loss: 2.350126266479492, val accuracy: 0.27368420362472534\n",
            "Epoch 50, train Loss: 2.2231285572052, val loss: 2.3384757041931152, val accuracy: 0.2800000011920929\n",
            "Epoch 60, train Loss: 2.2108373641967773, val loss: 2.334221124649048, val accuracy: 0.2673684060573578\n",
            "Epoch 70, train Loss: 2.2057182788848877, val loss: 2.328277111053467, val accuracy: 0.3115789294242859\n",
            "Epoch 80, train Loss: 2.2011234760284424, val loss: 2.3347439765930176, val accuracy: 0.3136841952800751\n",
            "Epoch 90, train Loss: 2.19429087638855, val loss: 2.3314781188964844, val accuracy: 0.30315786600112915\n",
            "Epoch 100, train Loss: 2.188854455947876, val loss: 2.331751823425293, val accuracy: 0.2778947353363037\n",
            "Total time : 38.47020649909973\n"
          ]
        }
      ],
      "source": [
        "max_length = 20\n",
        "X_train, y_train, X_val, y_val, char_len = preprocess_data(text, max_length)\n",
        "\n",
        "X_train = X_train.to(device)\n",
        "y_train = y_train.to(device)\n",
        "X_val = X_val.to(device)\n",
        "y_val = y_val.to(device)\n",
        "\n",
        "hidden_size = 128\n",
        "num_layers = 3\n",
        "num_head = 2\n",
        "learning_rate = 0.001\n",
        "epochs = 100\n",
        "model = TransformerModel(char_len, hidden_size, char_len, num_layers, num_head)\n",
        "model = model.to(device)\n",
        "criterion = nn.CrossEntropyLoss()\n",
        "optimizer = optim.Adam(model.parameters(), lr=learning_rate)\n",
        "\n",
        "start = time.time()\n",
        "for epoch in range(epochs):\n",
        "    model.train()\n",
        "    optimizer.zero_grad()\n",
        "\n",
        "    output = model(X_train)\n",
        "    loss = criterion(output, y_train)\n",
        "    loss.backward()\n",
        "    optimizer.step()\n",
        "\n",
        "    model.eval()\n",
        "    with torch.no_grad():\n",
        "        val_output = model(X_val)\n",
        "        val_loss = criterion(val_output, y_val)\n",
        "        _, predicted = torch.max(val_output, 1)\n",
        "        val_accuracy = (predicted == y_val).float().mean()\n",
        "\n",
        "    if (epoch+1) % 10 == 0:\n",
        "        print(f'Epoch {epoch+1}, train Loss: {loss.item()}, val loss: {val_loss.item()}, val accuracy: {val_accuracy.item()}')\n",
        "end = time.time()\n",
        "print(\"Total time :\", end-start)"
      ]
    },
    {
      "cell_type": "code",
      "execution_count": 24,
      "id": "e5d97cec-3720-446b-a355-f15961a01b35",
      "metadata": {
        "colab": {
          "base_uri": "https://localhost:8080/"
        },
        "id": "e5d97cec-3720-446b-a355-f15961a01b35",
        "outputId": "523e801b-b4be-48c9-9aa7-3f65cd59306c"
      },
      "outputs": [
        {
          "output_type": "stream",
          "name": "stderr",
          "text": [
            "/usr/local/lib/python3.10/dist-packages/torch/nn/modules/transformer.py:286: UserWarning: enable_nested_tensor is True, but self.use_nested_tensor is False because encoder_layer.self_attn.batch_first was not True(use batch_first for better inference performance)\n",
            "  warnings.warn(f\"enable_nested_tensor is True, but self.use_nested_tensor is False because {why_not_sparsity_fast_path}\")\n"
          ]
        },
        {
          "output_type": "stream",
          "name": "stdout",
          "text": [
            "Epoch 10, train Loss: 2.5165576934814453, val loss: 2.670081853866577, val accuracy: 0.2262156456708908\n",
            "Epoch 20, train Loss: 2.3636014461517334, val loss: 2.5573790073394775, val accuracy: 0.22832980751991272\n",
            "Epoch 30, train Loss: 2.2761974334716797, val loss: 2.5043275356292725, val accuracy: 0.23044396936893463\n",
            "Epoch 40, train Loss: 2.225708484649658, val loss: 2.4864022731781006, val accuracy: 0.23678646981716156\n",
            "Epoch 50, train Loss: 2.2060599327087402, val loss: 2.484729051589966, val accuracy: 0.23678646981716156\n",
            "Epoch 60, train Loss: 2.1953582763671875, val loss: 2.486574172973633, val accuracy: 0.23044396936893463\n",
            "Epoch 70, train Loss: 2.187142848968506, val loss: 2.493067502975464, val accuracy: 0.23678646981716156\n",
            "Epoch 80, train Loss: 2.175198554992676, val loss: 2.505647659301758, val accuracy: 0.23467230796813965\n",
            "Epoch 90, train Loss: 2.1708648204803467, val loss: 2.511640787124634, val accuracy: 0.23890063166618347\n",
            "Epoch 100, train Loss: 2.1770477294921875, val loss: 2.514417886734009, val accuracy: 0.23255813121795654\n",
            "Total time : 55.69947838783264\n"
          ]
        }
      ],
      "source": [
        "max_length = 30\n",
        "X_train, y_train, X_val, y_val, char3 = preprocess_data(text, max_length)\n",
        "\n",
        "X_train = X_train.to(device)\n",
        "y_train = y_train.to(device)\n",
        "X_val = X_val.to(device)\n",
        "y_val = y_val.to(device)\n",
        "\n",
        "hidden_size = 128\n",
        "num_layers = 3\n",
        "num_head = 2\n",
        "learning_rate = 0.001\n",
        "epochs = 100\n",
        "model = TransformerModel(char3, hidden_size, char3, num_layers, num_head)\n",
        "model = model.to(device)\n",
        "criterion = nn.CrossEntropyLoss()\n",
        "optimizer = optim.Adam(model.parameters(), lr=learning_rate)\n",
        "\n",
        "start = time.time()\n",
        "for epoch in range(epochs):\n",
        "    model.train()\n",
        "    optimizer.zero_grad()\n",
        "\n",
        "    output = model(X_train)\n",
        "    loss = criterion(output, y_train)\n",
        "    loss.backward()\n",
        "    optimizer.step()\n",
        "\n",
        "    model.eval()\n",
        "    with torch.no_grad():\n",
        "        val_output = model(X_val)\n",
        "        val_loss = criterion(val_output, y_val)\n",
        "        _, predicted = torch.max(val_output, 1)\n",
        "        val_accuracy = (predicted == y_val).float().mean()\n",
        "\n",
        "    if (epoch+1) % 10 == 0:\n",
        "        print(f'Epoch {epoch+1}, train Loss: {loss.item()}, val loss: {val_loss.item()}, val accuracy: {val_accuracy.item()}')\n",
        "end = time.time()\n",
        "print(\"Total time :\", end-start)"
      ]
    }
  ],
  "metadata": {
    "kernelspec": {
      "display_name": "Python 3",
      "name": "python3"
    },
    "language_info": {
      "codemirror_mode": {
        "name": "ipython",
        "version": 3
      },
      "file_extension": ".py",
      "mimetype": "text/x-python",
      "name": "python",
      "nbconvert_exporter": "python",
      "pygments_lexer": "ipython3",
      "version": "3.9.0"
    },
    "colab": {
      "provenance": [],
      "gpuType": "T4"
    },
    "accelerator": "GPU"
  },
  "nbformat": 4,
  "nbformat_minor": 5
}