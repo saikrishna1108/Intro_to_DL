{
  "cells": [
    {
      "cell_type": "code",
      "execution_count": null,
      "metadata": {
        "id": "MdZvr5x9hNxi"
      },
      "outputs": [],
      "source": [
        "import torch\n",
        "import torch.nn as nn\n",
        "import torch.optim as optim\n",
        "from torch.utils.data import DataLoader, Dataset, random_split\n",
        "import numpy as np\n",
        "import requests\n",
        "import time\n",
        "\n",
        "# Download the dataset\n",
        "url = \"https://raw.githubusercontent.com/karpathy/char-rnn/master/data/tinyshakespeare/input.txt\"\n",
        "response = requests.get(url)\n",
        "text = response.text\n",
        "\n",
        "# Prepare the dataset\n",
        "sequence_length = 50\n",
        "chars = sorted(list(set(text)))\n",
        "char_to_int = {ch: i for i, ch in enumerate(chars)}\n",
        "int_to_char = {i: ch for i, ch in enumerate(chars)}\n",
        "encoded_text = [char_to_int[ch] for ch in text]\n",
        "\n",
        "# Create sequences and targets\n",
        "sequences = []\n",
        "targets = []\n",
        "for i in range(0, len(encoded_text) - sequence_length):\n",
        "    seq = encoded_text[i:i+sequence_length]\n",
        "    target = encoded_text[i+sequence_length]\n",
        "    sequences.append(seq)\n",
        "    targets.append(target)\n",
        "\n",
        "# Convert to PyTorch tensors\n",
        "sequences = torch.tensor(sequences, dtype=torch.long)\n",
        "targets = torch.tensor(targets, dtype=torch.long)\n",
        "\n",
        "# Define the dataset class\n",
        "class CharDataset(Dataset):\n",
        "    def __init__(self, sequences, targets):\n",
        "        self.sequences = sequences\n",
        "        self.targets = targets\n",
        "\n",
        "    def __len__(self):\n",
        "        return len(self.sequences)\n",
        "\n",
        "    def __getitem__(self, index):\n",
        "        return self.sequences[index], self.targets[index]\n",
        "\n",
        "# Split the dataset into training and testing sets\n",
        "dataset = CharDataset(sequences, targets)\n",
        "train_size = int(len(dataset) * 0.8)\n",
        "test_size = len(dataset) - train_size\n",
        "train_dataset, test_dataset = random_split(dataset, [train_size, test_size])\n",
        "\n",
        "# Create data loaders\n",
        "batch_size = 64\n",
        "train_loader = DataLoader(train_dataset, shuffle=True, batch_size=batch_size)\n",
        "test_loader = DataLoader(test_dataset, shuffle=False, batch_size=batch_size)"
      ]
    },
    {
      "cell_type": "code",
      "execution_count": null,
      "metadata": {
        "id": "xunXOIQgi7lE"
      },
      "outputs": [],
      "source": [
        "class TransformerModel(nn.Module):\n",
        "    def __init__(self, input_size, hidden_size, output_size, num_layers, nhead):\n",
        "        super(TransformerModel, self).__init__()\n",
        "        self.embedding = nn.Embedding(input_size, hidden_size)\n",
        "        encoder_layers = nn.TransformerEncoderLayer(hidden_size, nhead)\n",
        "        self.transformer_encoder = nn.TransformerEncoder(encoder_layers, num_layers)\n",
        "        self.fc = nn.Linear(hidden_size, output_size)\n",
        "\n",
        "    def forward(self, x):\n",
        "        embedded = self.embedding(x)\n",
        "        transformer_output = self.transformer_encoder(embedded)\n",
        "        output = self.fc(transformer_output[:, -1, :])  # Get the output of the last Transformer block\n",
        "        return output\n"
      ]
    },
    {
      "cell_type": "code",
      "execution_count": null,
      "metadata": {
        "id": "Jk6z_yZWi_An"
      },
      "outputs": [],
      "source": [
        "device = torch.device(\"cuda\" if torch.cuda.is_available() else \"cpu\")\n",
        "hidden_size = 128\n",
        "num_layers = 3\n",
        "num_head = 2\n",
        "learning_rate = 0.001\n",
        "epochs = 10\n",
        "model = TransformerModel(len(chars), hidden_size, len(chars), num_layers, num_head)\n",
        "model = model.to(device)\n",
        "criterion = nn.CrossEntropyLoss()\n",
        "optimizer = optim.Adam(model.parameters(), lr=learning_rate)"
      ]
    },
    {
      "cell_type": "code",
      "execution_count": null,
      "metadata": {
        "colab": {
          "base_uri": "https://localhost:8080/"
        },
        "id": "bjvszIUmjE-q",
        "outputId": "b733c0d6-6d24-444f-c856-73ee0a462f4f"
      },
      "outputs": [
        {
          "name": "stdout",
          "output_type": "stream",
          "text": [
            "Epoch 1, Train Loss: 2.519294792026835, Validation Loss: 2.482605245781818, Validation Accuracy: 0.26924852848221853\n",
            "Epoch 2, Train Loss: 2.488630247195181, Validation Loss: 2.474365361988884, Validation Accuracy: 0.27010924870779895\n",
            "Epoch 3, Train Loss: 2.4830672685563795, Validation Loss: 2.4699031464544343, Validation Accuracy: 0.27076823763050895\n",
            "Epoch 4, Train Loss: 2.479382857715508, Validation Loss: 2.466706246341361, Validation Accuracy: 0.26943681103156425\n",
            "Epoch 5, Train Loss: 2.489211172015331, Validation Loss: 2.466627550749094, Validation Accuracy: 0.27103721270100284\n",
            "Epoch 6, Train Loss: 2.4774918277718356, Validation Loss: 2.463829308719788, Validation Accuracy: 0.269521986470554\n",
            "Epoch 7, Train Loss: 2.4852103514250614, Validation Loss: 2.4637273088622558, Validation Accuracy: 0.26914542137186254\n",
            "Epoch 8, Train Loss: 2.47687538179037, Validation Loss: 2.4611524062035284, Validation Accuracy: 0.27061581842389576\n",
            "Epoch 9, Train Loss: 2.4732807265917596, Validation Loss: 2.463735877493606, Validation Accuracy: 0.2678902043762244\n",
            "Epoch 10, Train Loss: 2.47309754594624, Validation Loss: 2.4615442143199084, Validation Accuracy: 0.27122549525034856\n",
            "Total time : 2302.3755898475647\n"
          ]
        }
      ],
      "source": [
        "import time\n",
        "start = time.time()\n",
        "for epoch in range(epochs):\n",
        "        model.train()\n",
        "        train_loss = 0.0\n",
        "        for inputs, targets in train_loader:\n",
        "            inputs, targets = inputs.to(device), targets.to(device)  # Move data to device\n",
        "            optimizer.zero_grad()\n",
        "            output = model(inputs)\n",
        "            loss = criterion(output, targets)\n",
        "            loss.backward()\n",
        "            optimizer.step()\n",
        "            train_loss += loss.item() * inputs.size(0)\n",
        "\n",
        "        epoch_train_loss = train_loss / len(train_loader.dataset)\n",
        "\n",
        "        # Validation\n",
        "        model.eval()\n",
        "        val_loss = 0.0\n",
        "        correct = 0\n",
        "        total = 0\n",
        "        with torch.no_grad():\n",
        "            for inputs, targets in test_loader:\n",
        "                inputs, targets = inputs.to(device), targets.to(device)  # Move data to device\n",
        "                val_output = model(inputs)\n",
        "                loss = criterion(val_output, targets)\n",
        "                val_loss += loss.item() * inputs.size(0)\n",
        "                _, predicted = torch.max(val_output, 1)\n",
        "                total += targets.size(0)\n",
        "                correct += (predicted == targets).sum().item()\n",
        "\n",
        "        epoch_val_loss = val_loss / len(test_loader.dataset)\n",
        "        epoch_val_accuracy = correct / total\n",
        "\n",
        "        if (epoch+1) % 1 == 0:\n",
        "            print(f'Epoch {epoch+1}, Train Loss: {epoch_train_loss}, Validation Loss: {epoch_val_loss}, Validation Accuracy: {epoch_val_accuracy}')\n",
        "end =time.time()\n",
        "print(\"Total time :\", end-start)"
      ]
    }
  ],
  "metadata": {
    "accelerator": "GPU",
    "colab": {
      "gpuType": "T4",
      "provenance": []
    },
    "kernelspec": {
      "display_name": "Python 3",
      "name": "python3"
    },
    "language_info": {
      "codemirror_mode": {
        "name": "ipython",
        "version": 3
      },
      "file_extension": ".py",
      "mimetype": "text/x-python",
      "name": "python",
      "nbconvert_exporter": "python",
      "pygments_lexer": "ipython3",
      "version": "3.9.10"
    }
  },
  "nbformat": 4,
  "nbformat_minor": 0
}