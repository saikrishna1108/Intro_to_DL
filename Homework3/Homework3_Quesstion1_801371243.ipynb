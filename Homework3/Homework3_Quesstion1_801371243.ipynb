{
 "cells": [
  {
   "cell_type": "code",
   "execution_count": 3,
   "id": "31e16a4f-55dc-4267-819b-9deb2b6ca02b",
   "metadata": {},
   "outputs": [],
   "source": [
    "import torch\n",
    "import torch.nn as nn\n",
    "import torch.optim as optim\n",
    "import numpy as np\n",
    "from sklearn.model_selection import train_test_split\n",
    "import time"
   ]
  },
  {
   "cell_type": "code",
   "execution_count": 4,
   "id": "b8be1cdf-1c68-41ec-b553-a83e416e6e6e",
   "metadata": {},
   "outputs": [],
   "source": [
    "text = \"\"\"Next character prediction is a fundamental task in the field of natural language processing (NLP) that involves predicting the next character in a sequence of text based on the characters that precede it. This task is essential for various applications, including text auto-completion, spell checking, and even in the development of sophisticated AI models capable of generating human-like text.\n",
    "\n",
    "At its core, next character prediction relies on statistical models or deep learning algorithms to analyze a given sequence of text and predict which character is most likely to follow. These predictions are based on patterns and relationships learned from large datasets of text during the training phase of the model.\n",
    "\n",
    "One of the most popular approaches to next character prediction involves the use of Recurrent Neural Networks (RNNs), and more specifically, a variant called Long Short-Term Memory (LSTM) networks. RNNs are particularly well-suited for sequential data like text, as they can maintain information in 'memory' about previous characters to inform the prediction of the next character. LSTM networks enhance this capability by being able to remember long-term dependencies, making them even more effective for next character prediction tasks.\n",
    "\n",
    "Training a model for next character prediction involves feeding it large amounts of text data, allowing it to learn the probability of each character's appearance following a sequence of characters. During this training process, the model adjusts its parameters to minimize the difference between its predictions and the actual outcomes, thus improving its predictive accuracy over time.\n",
    "\n",
    "Once trained, the model can be used to predict the next character in a given piece of text by considering the sequence of characters that precede it. This can enhance user experience in text editing software, improve efficiency in coding environments with auto-completion features, and enable more natural interactions with AI-based chatbots and virtual assistants.\n",
    "\n",
    "In summary, next character prediction plays a crucial role in enhancing the capabilities of various NLP applications, making text-based interactions more efficient, accurate, and human-like. Through the use of advanced machine learning models like RNNs and LSTMs, next character prediction continues to evolve, opening new possibilities for the future of text-based technology.\"\"\"\n"
   ]
  },
  {
   "cell_type": "code",
   "execution_count": 5,
   "id": "032138b0-1f1e-4f9b-87d2-c371c77e7290",
   "metadata": {},
   "outputs": [],
   "source": [
    "chars = sorted(list(set(text)))\n",
    "ix_to_char = {i: ch for i, ch in enumerate(chars)}\n",
    "char_to_ix = {ch: i for i, ch in enumerate(chars)} "
   ]
  },
  {
   "cell_type": "code",
   "execution_count": 6,
   "id": "ae113192-8891-466b-bb19-0aa6de6eba4d",
   "metadata": {},
   "outputs": [],
   "source": [
    "def prepare_dataset(text, max_length):\n",
    "    X = []\n",
    "    y = []\n",
    "    for i in range(len(text) - max_length):\n",
    "        sequence = text[i:i + max_length]\n",
    "        label = text[i + max_length]\n",
    "        X.append([char_to_ix[char] for char in sequence])\n",
    "        y.append(char_to_ix[label])\n",
    "    X = np.array(X)\n",
    "    y = np.array(y)\n",
    "    return X, y\n"
   ]
  },
  {
   "cell_type": "code",
   "execution_count": 7,
   "id": "c5117f65-3aee-466a-a3c0-96645e2b5f5b",
   "metadata": {},
   "outputs": [],
   "source": [
    "class RNNModel(nn.Module):\n",
    "    def __init__(self, input_size, hidden_size, output_size):\n",
    "        super(RNNModel, self).__init__()\n",
    "        self.hidden_size = hidden_size\n",
    "        self.embedding = nn.Embedding(input_size, hidden_size)\n",
    "        self.rnn = nn.RNN(hidden_size, hidden_size, batch_first=True)\n",
    "        self.fc = nn.Linear(hidden_size, output_size)\n",
    "\n",
    "    def forward(self, x):\n",
    "        embedded = self.embedding(x)\n",
    "        output, _ = self.rnn(embedded)\n",
    "        output = self.fc(output[:, -1, :])\n",
    "        return output"
   ]
  },
  {
   "cell_type": "code",
   "execution_count": 8,
   "id": "3025b0b4-b91c-421c-8c4a-7aa26f6c4a1f",
   "metadata": {},
   "outputs": [],
   "source": [
    "class LSTMModel(nn.Module):\n",
    "    def __init__(self, input_size, hidden_size, output_size):\n",
    "        super(LSTMModel, self).__init__()\n",
    "        self.hidden_size = hidden_size\n",
    "        self.embedding = nn.Embedding(input_size, hidden_size)\n",
    "        self.lstm = nn.LSTM(hidden_size, hidden_size, batch_first=True)\n",
    "        self.fc = nn.Linear(hidden_size, output_size)\n",
    "\n",
    "    def forward(self, x):\n",
    "        embedded = self.embedding(x)\n",
    "        output, _ = self.lstm(embedded)\n",
    "        output = self.fc(output[:, -1, :])\n",
    "        return output\n"
   ]
  },
  {
   "cell_type": "code",
   "execution_count": 9,
   "id": "602b706a-3abc-4d04-886d-5b95d8c1bf1a",
   "metadata": {},
   "outputs": [],
   "source": [
    "class GRUModel(nn.Module):\n",
    "    def __init__(self, input_size, hidden_size, output_size):\n",
    "        super(GRUModel, self).__init__()\n",
    "        self.hidden_size = hidden_size\n",
    "        self.embedding = nn.Embedding(input_size, hidden_size)\n",
    "        self.gru = nn.GRU(hidden_size, hidden_size, batch_first=True)\n",
    "        self.fc = nn.Linear(hidden_size, output_size)\n",
    "\n",
    "    def forward(self, x):\n",
    "        embedded = self.embedding(x)\n",
    "        output, _ = self.gru(embedded)\n",
    "        output = self.fc(output[:, -1, :])\n",
    "        return output"
   ]
  },
  {
   "cell_type": "code",
   "execution_count": 28,
   "id": "93de1ab3-3ca3-463d-bf03-658021b91c50",
   "metadata": {},
   "outputs": [],
   "source": [
    "def get_num_params(model):\n",
    "    return sum(p.numel() for p in model.parameters() if p.requires_grad)"
   ]
  },
  {
   "cell_type": "code",
   "execution_count": 20,
   "id": "25d8d28d-1612-4a80-83c9-53007139be47",
   "metadata": {},
   "outputs": [],
   "source": [
    "hidden_size = 128\n",
    "learning_rate = 0.005\n",
    "epochs = 100"
   ]
  },
  {
   "cell_type": "code",
   "execution_count": 21,
   "id": "e73ee2e4-e949-4c8a-86c1-f5ce3eafb13a",
   "metadata": {},
   "outputs": [],
   "source": [
    "def train_and_validate(model, X_train, y_train, X_val, y_val, criterion, optimizer):\n",
    "    start_time = time.time()\n",
    "    for epoch in range(epochs):\n",
    "        model.train()\n",
    "        optimizer.zero_grad()\n",
    "        output = model(X_train)\n",
    "        loss = criterion(output, y_train)\n",
    "        loss.backward()\n",
    "        optimizer.step()\n",
    "\n",
    "        # Validation\n",
    "        model.eval()\n",
    "        with torch.no_grad():\n",
    "            val_output = model(X_val)\n",
    "            val_loss = criterion(val_output, y_val)\n",
    "            _, predicted = torch.max(val_output, 1)\n",
    "            val_accuracy = (predicted == y_val).float().mean()\n",
    "\n",
    "        if (epoch+1) % 10 == 0:\n",
    "            print(f'Epoch {epoch+1}, Loss: {loss.item()}, Validation Loss: {val_loss.item()}, Validation Accuracy: {val_accuracy.item()}')\n",
    "    \n",
    "    end_time = time.time()\n",
    "    execution_time = end_time - start_time\n",
    "    print(f\"Execution Time: {execution_time} seconds\")"
   ]
  },
  {
   "cell_type": "code",
   "execution_count": 22,
   "id": "e46c3950-6ffd-4536-9af3-7e650c4fbf07",
   "metadata": {},
   "outputs": [],
   "source": [
    "X_10, y_10 = prepare_dataset(text, 10)\n",
    "X_train_10, X_val_10, y_train_10, y_val_10 = train_test_split(X_10, y_10, test_size=0.2, random_state=42)\n",
    "X_train_10 = torch.tensor(X_train_10, dtype=torch.long)\n",
    "y_train_10 = torch.tensor(y_train_10, dtype=torch.long)\n",
    "X_val_10 = torch.tensor(X_val_10, dtype=torch.long)\n",
    "y_val_10 = torch.tensor(y_val_10, dtype=torch.long)\n"
   ]
  },
  {
   "cell_type": "code",
   "execution_count": 23,
   "id": "ede42d62-3d8e-482e-8132-5c5669cdbe75",
   "metadata": {},
   "outputs": [],
   "source": [
    "X_20, y_20 = prepare_dataset(text, 20)\n",
    "X_train_20, X_val_20, y_train_20, y_val_20 = train_test_split(X_20, y_20, test_size=0.2, random_state=42)\n",
    "X_train_20 = torch.tensor(X_train_20, dtype=torch.long)\n",
    "y_train_20 = torch.tensor(y_train_20, dtype=torch.long)\n",
    "X_val_20 = torch.tensor(X_val_20, dtype=torch.long)\n",
    "y_val_20 = torch.tensor(y_val_20, dtype=torch.long)\n"
   ]
  },
  {
   "cell_type": "code",
   "execution_count": 24,
   "id": "aec6867c-868a-414f-8fbb-c293abf5d581",
   "metadata": {},
   "outputs": [],
   "source": [
    "X_30, y_30 = prepare_dataset(text, 30)\n",
    "X_train_30, X_val_30, y_train_30, y_val_30 = train_test_split(X_30, y_30, test_size=0.2, random_state=42)\n",
    "X_train_30 = torch.tensor(X_train_30, dtype=torch.long)\n",
    "y_train_30 = torch.tensor(y_train_30, dtype=torch.long)\n",
    "X_val_30 = torch.tensor(X_val_30, dtype=torch.long)\n",
    "y_val_30 = torch.tensor(y_val_30, dtype=torch.long)\n"
   ]
  },
  {
   "cell_type": "code",
   "execution_count": 46,
   "id": "4fb6d4c2-7d14-4e37-8a83-d12fa75bb627",
   "metadata": {},
   "outputs": [],
   "source": [
    "rnn_model = RNNModel(len(chars), hidden_size, len(chars))\n",
    "lstm_model = LSTMModel(len(chars), hidden_size, len(chars))\n",
    "gru_model = GRUModel(len(chars), hidden_size, len(chars))"
   ]
  },
  {
   "cell_type": "code",
   "execution_count": 47,
   "id": "c14c71a5-351b-4570-bddd-30c1b4dec246",
   "metadata": {},
   "outputs": [],
   "source": [
    "criterion = nn.CrossEntropyLoss()\n",
    "rnn_optimizer = optim.Adam(rnn_model.parameters(), lr=learning_rate)\n",
    "lstm_optimizer = optim.Adam(lstm_model.parameters(), lr=learning_rate)\n",
    "gru_optimizer = optim.Adam(gru_model.parameters(), lr=learning_rate)"
   ]
  },
  {
   "cell_type": "code",
   "execution_count": 32,
   "id": "7dc0d14f-b15d-43af-98d5-e26ceec5d5ff",
   "metadata": {},
   "outputs": [
    {
     "name": "stdout",
     "output_type": "stream",
     "text": [
      "RNN Model:\n",
      "Epoch 10, Loss: 2.234295129776001, Validation Loss: 2.307642698287964, Validation Accuracy: 0.3899371027946472\n",
      "Epoch 20, Loss: 1.7504087686538696, Validation Loss: 2.091737985610962, Validation Accuracy: 0.4234800934791565\n",
      "Epoch 30, Loss: 1.3947967290878296, Validation Loss: 1.9954954385757446, Validation Accuracy: 0.4633123576641083\n",
      "Epoch 40, Loss: 1.0721142292022705, Validation Loss: 1.9657237529754639, Validation Accuracy: 0.4800838530063629\n",
      "Epoch 50, Loss: 0.7760659456253052, Validation Loss: 2.028057813644409, Validation Accuracy: 0.5031446814537048\n",
      "Epoch 60, Loss: 0.5163461565971375, Validation Loss: 2.1652650833129883, Validation Accuracy: 0.50104820728302\n",
      "Epoch 70, Loss: 0.3298380672931671, Validation Loss: 2.301595449447632, Validation Accuracy: 0.49895179271698\n",
      "Epoch 80, Loss: 0.19547824561595917, Validation Loss: 2.4598724842071533, Validation Accuracy: 0.5073375105857849\n",
      "Epoch 90, Loss: 0.11843431740999222, Validation Loss: 2.634629487991333, Validation Accuracy: 0.4947589039802551\n",
      "Epoch 100, Loss: 0.08117753267288208, Validation Loss: 2.7893924713134766, Validation Accuracy: 0.48427674174308777\n",
      "Execution Time: 6.246695518493652 seconds\n",
      "44589\n"
     ]
    }
   ],
   "source": [
    "print(\"RNN Model:\")\n",
    "train_and_validate(rnn_model, X_train_10, y_train_10, X_val_10, y_val_10, criterion, rnn_optimizer)\n",
    "print(get_num_params(rnn_model))"
   ]
  },
  {
   "cell_type": "code",
   "execution_count": 35,
   "id": "ff18915d-cdd7-4700-883b-2ed832f6fdf3",
   "metadata": {},
   "outputs": [
    {
     "name": "stdout",
     "output_type": "stream",
     "text": [
      "Epoch 10, Loss: 2.2369792461395264, Validation Loss: 2.418715238571167, Validation Accuracy: 0.3389473557472229\n",
      "Epoch 20, Loss: 1.7649403810501099, Validation Loss: 2.1914923191070557, Validation Accuracy: 0.4294736981391907\n",
      "Epoch 30, Loss: 1.4170124530792236, Validation Loss: 2.077091693878174, Validation Accuracy: 0.4589473605155945\n",
      "Epoch 40, Loss: 1.1137441396713257, Validation Loss: 2.0510611534118652, Validation Accuracy: 0.4863157868385315\n",
      "Epoch 50, Loss: 0.8362480401992798, Validation Loss: 2.100748062133789, Validation Accuracy: 0.5073684453964233\n",
      "Epoch 60, Loss: 0.5927646160125732, Validation Loss: 2.2230286598205566, Validation Accuracy: 0.5010526180267334\n",
      "Epoch 70, Loss: 0.38871920108795166, Validation Loss: 2.2948532104492188, Validation Accuracy: 0.5178947448730469\n",
      "Epoch 80, Loss: 0.24208442866802216, Validation Loss: 2.4266178607940674, Validation Accuracy: 0.5073684453964233\n",
      "Epoch 90, Loss: 0.1505090743303299, Validation Loss: 2.543039560317993, Validation Accuracy: 0.5010526180267334\n",
      "Epoch 100, Loss: 0.09303642064332962, Validation Loss: 2.668976068496704, Validation Accuracy: 0.49473685026168823\n",
      "Execution Time: 11.938465118408203 seconds\n",
      "44589\n"
     ]
    }
   ],
   "source": [
    "train_and_validate(rnn_model, X_train_20, y_train_20, X_val_20, y_val_20, criterion, rnn_optimizer)\n",
    "print(get_num_params(rnn_model))"
   ]
  },
  {
   "cell_type": "code",
   "execution_count": 41,
   "id": "cd41f726-b97a-4d8f-8f35-af6c78a7f2b3",
   "metadata": {},
   "outputs": [
    {
     "name": "stdout",
     "output_type": "stream",
     "text": [
      "Epoch 10, Loss: 2.2394797801971436, Validation Loss: 2.4579646587371826, Validation Accuracy: 0.32135307788848877\n",
      "Epoch 20, Loss: 1.7679774761199951, Validation Loss: 2.2606613636016846, Validation Accuracy: 0.3636363744735718\n",
      "Epoch 30, Loss: 1.410268783569336, Validation Loss: 2.1653339862823486, Validation Accuracy: 0.41437631845474243\n",
      "Epoch 40, Loss: 1.1049487590789795, Validation Loss: 2.1429476737976074, Validation Accuracy: 0.4482029676437378\n",
      "Epoch 50, Loss: 0.8304303884506226, Validation Loss: 2.1460483074188232, Validation Accuracy: 0.47145876288414\n",
      "Epoch 60, Loss: 0.5984236001968384, Validation Loss: 2.192965507507324, Validation Accuracy: 0.486257940530777\n",
      "Epoch 70, Loss: 0.40031686425209045, Validation Loss: 2.3224353790283203, Validation Accuracy: 0.47991544008255005\n",
      "Epoch 80, Loss: 0.2601189911365509, Validation Loss: 2.5039961338043213, Validation Accuracy: 0.47780126333236694\n",
      "Epoch 90, Loss: 0.16624568402767181, Validation Loss: 2.6815297603607178, Validation Accuracy: 0.47991544008255005\n",
      "Epoch 100, Loss: 0.10360303521156311, Validation Loss: 2.8117358684539795, Validation Accuracy: 0.48202958703041077\n",
      "Execution Time: 19.115798950195312 seconds\n",
      "44589\n"
     ]
    }
   ],
   "source": [
    "train_and_validate(rnn_model, X_train_30, y_train_30, X_val_30, y_val_30, criterion, rnn_optimizer)\n",
    "print(get_num_params(rnn_model))"
   ]
  },
  {
   "cell_type": "code",
   "execution_count": 42,
   "id": "fbbeaf34-9d5a-431d-9374-ee8336667076",
   "metadata": {},
   "outputs": [
    {
     "name": "stdout",
     "output_type": "stream",
     "text": [
      "LSTM Model:\n",
      "Epoch 10, Loss: 2.536839008331299, Validation Loss: 2.4927024841308594, Validation Accuracy: 0.33752620220184326\n",
      "Epoch 20, Loss: 2.030027151107788, Validation Loss: 2.1998746395111084, Validation Accuracy: 0.4088050425052643\n",
      "Epoch 30, Loss: 1.638524055480957, Validation Loss: 2.0475406646728516, Validation Accuracy: 0.42557650804519653\n",
      "Epoch 40, Loss: 1.2863359451293945, Validation Loss: 1.9717531204223633, Validation Accuracy: 0.4633123576641083\n",
      "Epoch 50, Loss: 0.9557944536209106, Validation Loss: 1.9529662132263184, Validation Accuracy: 0.5031446814537048\n",
      "Epoch 60, Loss: 0.6617252826690674, Validation Loss: 2.000004291534424, Validation Accuracy: 0.5073375105857849\n",
      "Epoch 70, Loss: 0.42380449175834656, Validation Loss: 2.109052896499634, Validation Accuracy: 0.4716981053352356\n",
      "Epoch 80, Loss: 0.25237342715263367, Validation Loss: 2.241546630859375, Validation Accuracy: 0.46960169076919556\n",
      "Epoch 90, Loss: 0.14868901669979095, Validation Loss: 2.3840861320495605, Validation Accuracy: 0.46960169076919556\n",
      "Epoch 100, Loss: 0.09537344425916672, Validation Loss: 2.512688159942627, Validation Accuracy: 0.46121594309806824\n",
      "Execution Time: 23.542675018310547 seconds\n",
      "143661\n"
     ]
    }
   ],
   "source": [
    "print(\"LSTM Model:\")\n",
    "train_and_validate(lstm_model, X_train_10, y_train_10, X_val_10, y_val_10, criterion, lstm_optimizer)\n",
    "print(get_num_params(lstm_model))"
   ]
  },
  {
   "cell_type": "code",
   "execution_count": 45,
   "id": "9c295012-b672-4f9f-b802-fe1ebbfb4cc4",
   "metadata": {},
   "outputs": [
    {
     "name": "stdout",
     "output_type": "stream",
     "text": [
      "LSTM Model:\n",
      "Epoch 10, Loss: 2.5682215690612793, Validation Loss: 2.6345999240875244, Validation Accuracy: 0.2757894694805145\n",
      "Epoch 20, Loss: 2.0848042964935303, Validation Loss: 2.3194386959075928, Validation Accuracy: 0.35789474844932556\n",
      "Epoch 30, Loss: 1.7118844985961914, Validation Loss: 2.14076566696167, Validation Accuracy: 0.4231579005718231\n",
      "Epoch 40, Loss: 1.3764475584030151, Validation Loss: 2.032195568084717, Validation Accuracy: 0.4694736897945404\n",
      "Epoch 50, Loss: 1.0752917528152466, Validation Loss: 2.0009572505950928, Validation Accuracy: 0.4989473819732666\n",
      "Epoch 60, Loss: 0.8084864616394043, Validation Loss: 2.0023958683013916, Validation Accuracy: 0.5052631497383118\n",
      "Epoch 70, Loss: 0.583466112613678, Validation Loss: 2.0613644123077393, Validation Accuracy: 0.49052631855010986\n",
      "Epoch 80, Loss: 0.4161577820777893, Validation Loss: 2.1673924922943115, Validation Accuracy: 0.4989473819732666\n",
      "Epoch 90, Loss: 0.26170071959495544, Validation Loss: 2.2511367797851562, Validation Accuracy: 0.4968421161174774\n",
      "Epoch 100, Loss: 0.16391326487064362, Validation Loss: 2.3479723930358887, Validation Accuracy: 0.4884210526943207\n",
      "Execution Time: 46.71383810043335 seconds\n",
      "143661\n"
     ]
    }
   ],
   "source": [
    "print(\"LSTM Model:\")\n",
    "train_and_validate(lstm_model, X_train_20, y_train_20, X_val_20, y_val_20, criterion, lstm_optimizer)\n",
    "print(get_num_params(lstm_model))"
   ]
  },
  {
   "cell_type": "code",
   "execution_count": 48,
   "id": "6b9e3de2-3022-4395-993b-bd93b087a57a",
   "metadata": {},
   "outputs": [
    {
     "name": "stdout",
     "output_type": "stream",
     "text": [
      "LSTM Model:\n",
      "Epoch 10, Loss: 2.571023941040039, Validation Loss: 2.6458563804626465, Validation Accuracy: 0.2452431321144104\n",
      "Epoch 20, Loss: 2.0687496662139893, Validation Loss: 2.3261616230010986, Validation Accuracy: 0.35517969727516174\n",
      "Epoch 30, Loss: 1.6803110837936401, Validation Loss: 2.16711163520813, Validation Accuracy: 0.41437631845474243\n",
      "Epoch 40, Loss: 1.3332363367080688, Validation Loss: 2.0986077785491943, Validation Accuracy: 0.4334038197994232\n",
      "Epoch 50, Loss: 1.0286128520965576, Validation Loss: 2.083016872406006, Validation Accuracy: 0.4693446159362793\n",
      "Epoch 60, Loss: 0.7529832124710083, Validation Loss: 2.104940414428711, Validation Accuracy: 0.47145876288414\n",
      "Epoch 70, Loss: 0.5427717566490173, Validation Loss: 2.1569390296936035, Validation Accuracy: 0.4693446159362793\n",
      "Epoch 80, Loss: 0.3540922701358795, Validation Loss: 2.2283902168273926, Validation Accuracy: 0.4756871163845062\n",
      "Epoch 90, Loss: 0.22776061296463013, Validation Loss: 2.315833806991577, Validation Accuracy: 0.47780126333236694\n",
      "Epoch 100, Loss: 0.14368383586406708, Validation Loss: 2.3983561992645264, Validation Accuracy: 0.48202958703041077\n",
      "Execution Time: 66.50552725791931 seconds\n",
      "143661\n"
     ]
    }
   ],
   "source": [
    "print(\"LSTM Model:\")\n",
    "train_and_validate(lstm_model, X_train_30, y_train_30, X_val_30, y_val_30, criterion, lstm_optimizer)\n",
    "print(get_num_params(lstm_model))"
   ]
  }
 ],
 "metadata": {
  "kernelspec": {
   "display_name": "Python 3 (ipykernel)",
   "language": "python",
   "name": "python3"
  },
  "language_info": {
   "codemirror_mode": {
    "name": "ipython",
    "version": 3
   },
   "file_extension": ".py",
   "mimetype": "text/x-python",
   "name": "python",
   "nbconvert_exporter": "python",
   "pygments_lexer": "ipython3",
   "version": "3.9.0"
  }
 },
 "nbformat": 4,
 "nbformat_minor": 5
}
